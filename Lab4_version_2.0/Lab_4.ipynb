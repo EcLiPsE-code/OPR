{
 "cells": [
  {
   "cell_type": "code",
   "execution_count": 1,
   "metadata": {},
   "outputs": [],
   "source": [
    "import numpy as np"
   ]
  },
  {
   "cell_type": "code",
   "execution_count": 2,
   "metadata": {},
   "outputs": [],
   "source": [
    "def create_table_and_variables(a, b, f):\n",
    "    number_of_variables = len(a[0])\n",
    "    number_of_restrictions = len(b)\n",
    "    basis_indexes = np.arange(number_of_variables, number_of_variables + number_of_restrictions)\n",
    "\n",
    "    table = []\n",
    "    new = np.zeros(number_of_restrictions)\n",
    "    for i in range(number_of_restrictions):\n",
    "        t = new.copy()\n",
    "        t[i] = 1\n",
    "        table.append([b[i]] + a[i] + t.tolist())\n",
    "    table.append([0] + (-np.array(f)).tolist() + [0] * number_of_restrictions)\n",
    "    table.append([0] * (number_of_variables + 1) + [1] * number_of_restrictions)\n",
    "    table  = np.array(table)\n",
    "    for i in range(number_of_restrictions):\n",
    "        table[-1] -= table[i]\n",
    "    return table, number_of_variables, number_of_restrictions, basis_indexes\n",
    "\n",
    "\n",
    "def get_basic_plan(table, number_of_variables, number_of_restrictions, basis_indexes):\n",
    "    basic_plan = [0] * (number_of_variables + number_of_restrictions)\n",
    "    for i, j in zip(basis_indexes, range(number_of_restrictions)):\n",
    "        basic_plan[i] = table[j, 0]\n",
    "    return basic_plan\n",
    "\n",
    "\n",
    "def is_optimal_solution(table, number_of_variables):\n",
    "    return (table[-1][1 : number_of_variables + 1] >= 0).all() and (table[-2][1 : number_of_variables + 1] >= 0).all()\n",
    "\n",
    "\n",
    "def get_permutations(table, number_of_variables, number_of_restrictions):\n",
    "    k = -2\n",
    "    if (table[-1] >= 0).all():\n",
    "        k = -3\n",
    "    in_idx = np.argmin(table[k + 1, 1:number_of_variables + 1])\n",
    "    mask = table[:number_of_restrictions, in_idx + 1] > 0\n",
    "    out_idx = np.argmin(table[:number_of_restrictions, 0][mask] / table[:number_of_restrictions, in_idx + 1][mask])\n",
    "    if (table[-1] >= 0).all() and not mask[0]:\n",
    "        out_idx += len(table[:number_of_restrictions, 0]) - sum(mask)\n",
    "    return in_idx, out_idx\n",
    "\n",
    "\n",
    "def recalculation(table, in_idx, out_idx):\n",
    "    leading_column = in_idx + 1\n",
    "    leading_row = out_idx\n",
    "\n",
    "    for i in range(len(table)):\n",
    "        if i != leading_row:\n",
    "            table[i] = table[i] - np.divide(table[i][leading_column], table[leading_row][leading_column], \n",
    "                                            out=np.zeros_like(table[leading_row][leading_column]), \n",
    "                                            where=table[leading_row][leading_column] != 0) * table[leading_row]\n",
    "    table[leading_row] = table[leading_row] / table[leading_row][leading_column]\n",
    "    return table\n",
    "\n",
    "\n",
    "def solve(a, b, f):\n",
    "    table, number_of_variables, number_of_restrictions, basis_indexes = create_table_and_variables(a, b, f)\n",
    "    basic_plan = get_basic_plan(table, number_of_variables, number_of_restrictions, basis_indexes)\n",
    "    print(\"Начальная таблица\")\n",
    "    print(table)\n",
    "    number = 1\n",
    "    while not is_optimal_solution(table, number_of_variables):\n",
    "        in_idx, out_idx = get_permutations(table, number_of_variables, number_of_restrictions)\n",
    "        basis_indexes[out_idx] = in_idx\n",
    "        table = recalculation(table, in_idx, out_idx)\n",
    "        basic_plan = get_basic_plan(table, number_of_variables, number_of_restrictions, basis_indexes)\n",
    "        print(\"\\n\\nШаг \", number)\n",
    "        print(\"Таблица\")\n",
    "        print(np.round(table, 3))\n",
    "        print(\"Базисный план\")\n",
    "        print(np.round(basic_plan, 3))\n",
    "        number += 1\n",
    "    return basic_plan\n",
    "\n",
    "\n",
    "def get_value(f, basic_plan):\n",
    "    s = 0\n",
    "    for i, j in zip(f, basic_plan):\n",
    "        s += i * j\n",
    "    return s"
   ]
  },
  {
   "cell_type": "markdown",
   "metadata": {},
   "source": [
    "<h2>Исходные данные задачи</h2>"
   ]
  },
  {
   "attachments": {
    "image.png": {
     "image/png": "[encoded data removed]"
    }
   },
   "cell_type": "markdown",
   "metadata": {},
   "source": [
    "![image.png](attachment:image.png)"
   ]
  },
  {
   "cell_type": "code",
   "execution_count": 3,
   "metadata": {},
   "outputs": [],
   "source": [
    "a = [[1, 2,  2, 1],\n",
    "     [2, 0, -2, 1]]\n",
    "b = [5, 1]\n",
    "f = [1, 3, 2, 1]"
   ]
  },
  {
   "cell_type": "code",
   "execution_count": 4,
   "metadata": {},
   "outputs": [
    {
     "name": "stdout",
     "output_type": "stream",
     "text": [
      "Начальная таблица\n",
      "[[ 5.  1.  2.  2.  1.  1.  0.]\n",
      " [ 1.  2.  0. -2.  1.  0.  1.]\n",
      " [ 0. -1. -3. -2. -1.  0.  0.]\n",
      " [-6. -3. -2.  0. -2.  0.  0.]]\n",
      "\n",
      "\n",
      "Шаг  1\n",
      "Таблица\n",
      "[[ 4.5  0.   2.   3.   0.5  1.  -0.5]\n",
      " [ 0.5  1.   0.  -1.   0.5  0.   0.5]\n",
      " [ 0.5  0.  -3.  -3.  -0.5  0.   0.5]\n",
      " [-4.5  0.  -2.  -3.  -0.5  0.   1.5]]\n",
      "Базисный план\n",
      "[0.5 0.  0.  0.  4.5 0. ]\n",
      "\n",
      "\n",
      "Шаг  2\n",
      "Таблица\n",
      "[[ 1.5    0.     0.667  1.     0.167  0.333 -0.167]\n",
      " [ 2.     1.     0.667  0.     0.667  0.333  0.333]\n",
      " [ 5.     0.    -1.     0.     0.     1.     0.   ]\n",
      " [ 0.     0.     0.     0.     0.     1.     1.   ]]\n",
      "Базисный план\n",
      "[2.  0.  1.5 0.  0.  0. ]\n",
      "\n",
      "\n",
      "Шаг  3\n",
      "Таблица\n",
      "[[ 2.25  0.    1.    1.5   0.25  0.5  -0.25]\n",
      " [ 0.5   1.    0.   -1.    0.5   0.    0.5 ]\n",
      " [ 7.25  0.    0.    1.5   0.25  1.5  -0.25]\n",
      " [ 0.    0.    0.    0.    0.    1.    1.  ]]\n",
      "Базисный план\n",
      "[0.5  2.25 0.   0.   0.   0.  ]\n",
      "\n",
      "Значение целевой функции: 7.25\n"
     ]
    }
   ],
   "source": [
    "basic_plan = solve(a, b, f)\n",
    "print(\"\\nЗначение целевой функции:\", get_value(f, basic_plan))"
   ]
  }
 ],
 "metadata": {
  "kernelspec": {
   "display_name": "Python 3",
   "language": "python",
   "name": "python3"
  },
  "language_info": {
   "codemirror_mode": {
    "name": "ipython",
    "version": 3
   },
   "file_extension": ".py",
   "mimetype": "text/x-python",
   "name": "python",
   "nbconvert_exporter": "python",
   "pygments_lexer": "ipython3",
   "version": "3.7.0"
  }
 },
 "nbformat": 4,
 "nbformat_minor": 4
}
